{
 "cells": [
  {
   "cell_type": "markdown",
   "metadata": {},
   "source": [
    "Para a apresentação final da nossa análise para o Alura Voz, precisamos definir o melhor modelo e utilizar os melhores hiperparametros nele."
   ]
  },
  {
   "cell_type": "markdown",
   "metadata": {},
   "source": [
    "### Importando bibliotecas\n",
    "\n",
    "Para a aplicação utilizaremos `pandas`, `seaborn`, `sklearn`, `imblearn` e `sys`."
   ]
  },
  {
   "cell_type": "code",
   "execution_count": 34,
   "metadata": {},
   "outputs": [],
   "source": [
    "import sys\n",
    "sys.path.append('../')\n",
    "\n",
    "import numpy as np\n",
    "import pandas as pd\n",
    "\n",
    "from utils.utils import plot_matriz_confusao\n",
    "from sklearn.model_selection import GridSearchCV\n",
    "from sklearn.ensemble import RandomForestClassifier\n",
    "from sklearn.model_selection import train_test_split\n",
    "\n",
    "SEED = 42"
   ]
  },
  {
   "cell_type": "markdown",
   "metadata": {},
   "source": [
    "## Otimizando o modelo"
   ]
  },
  {
   "cell_type": "markdown",
   "metadata": {},
   "source": [
    "Sabendo que é preciso escolher o melhor modelo desenvolvido, faremos uma análise do resultado obtido no [estudo anterior](https://github.com/sthemonica/challenge_dados_1/blob/bruno/3-Modelos%20de%20ML/modelos.ipynb), ordenado pelo valor de Recall:\n",
    "\n",
    "<h3>Tabela dos modelos ordenada pelo Recall</h3>\n",
    "\n",
    "|    | Modelo        |   Acurácia Treino |   Acurácia Teste |   Precisão |   Recall |   F1-Score |\n",
    "|---:|:--------------|------------------:|-----------------:|-----------:|---------:|-----------:|\n",
    "|  0 | random forest |          0.809818 |         0.800928 |   0.769395 | 0.849843 |   0.80762  |\n",
    "|  1 | decision tree |          0.814715 |         0.804407 |   0.776335 | 0.845912 |   0.809631 |\n",
    "|  2 | svc           |          0.751965 |         0.750676 |   0.733086 | 0.775157 |   0.753535 |\n",
    "\n",
    "O ***Recall*** é uma métrica que avalia se as previsões positivas foram dadas corretamente, ou seja, avalia a quantidade de Verdadeiros Positivos (True Pos) e Falsos Negativos (False Neg). De forma que, quanto maior o Recall mais acertos o modelo obteve. \n",
    "\n",
    "Dessa forma, utilizaremos o modelo que obteve o melhor Recall, sendo assim, o Random Forest.\n",
    "\n",
    "Tendo escolhido o melhor modelo, utilizaremos o [GridSearchCV](https://cursos.alura.com.br/course/machine-learning-otimizacao-de-modelos-atraves-de-hiperparametros/task/48715) para otimizá-lo."
   ]
  },
  {
   "cell_type": "markdown",
   "metadata": {},
   "source": [
    "Agora, vamos ler o conjunto de dados trabalhado no notebook anterior `modelos.ipynb` através do método `read_json` do pandas:"
   ]
  },
  {
   "cell_type": "code",
   "execution_count": 57,
   "metadata": {},
   "outputs": [
    {
     "data": {
      "text/html": [
       "<div>\n",
       "<style scoped>\n",
       "    .dataframe tbody tr th:only-of-type {\n",
       "        vertical-align: middle;\n",
       "    }\n",
       "\n",
       "    .dataframe tbody tr th {\n",
       "        vertical-align: top;\n",
       "    }\n",
       "\n",
       "    .dataframe thead th {\n",
       "        text-align: right;\n",
       "    }\n",
       "</style>\n",
       "<table border=\"1\" class=\"dataframe\">\n",
       "  <thead>\n",
       "    <tr style=\"text-align: right;\">\n",
       "      <th></th>\n",
       "      <th>gender</th>\n",
       "      <th>SeniorCitizen</th>\n",
       "      <th>Partner</th>\n",
       "      <th>Dependents</th>\n",
       "      <th>tenure</th>\n",
       "      <th>PhoneService</th>\n",
       "      <th>MultipleLines</th>\n",
       "      <th>OnlineSecurity</th>\n",
       "      <th>OnlineBackup</th>\n",
       "      <th>DeviceProtection</th>\n",
       "      <th>...</th>\n",
       "      <th>PaymentMethod_Credit card (automatic)</th>\n",
       "      <th>PaymentMethod_Electronic check</th>\n",
       "      <th>PaymentMethod_Mailed check</th>\n",
       "      <th>Contract_Month-to-month</th>\n",
       "      <th>Contract_One year</th>\n",
       "      <th>Contract_Two year</th>\n",
       "      <th>InternetService_DSL</th>\n",
       "      <th>InternetService_Fiber optic</th>\n",
       "      <th>InternetService_No</th>\n",
       "      <th>Churn</th>\n",
       "    </tr>\n",
       "  </thead>\n",
       "  <tbody>\n",
       "    <tr>\n",
       "      <th>0</th>\n",
       "      <td>1</td>\n",
       "      <td>0</td>\n",
       "      <td>1</td>\n",
       "      <td>1</td>\n",
       "      <td>9</td>\n",
       "      <td>1</td>\n",
       "      <td>0</td>\n",
       "      <td>0</td>\n",
       "      <td>1</td>\n",
       "      <td>0</td>\n",
       "      <td>...</td>\n",
       "      <td>0</td>\n",
       "      <td>0</td>\n",
       "      <td>1</td>\n",
       "      <td>0</td>\n",
       "      <td>1</td>\n",
       "      <td>0</td>\n",
       "      <td>1</td>\n",
       "      <td>0</td>\n",
       "      <td>0</td>\n",
       "      <td>0</td>\n",
       "    </tr>\n",
       "    <tr>\n",
       "      <th>1</th>\n",
       "      <td>0</td>\n",
       "      <td>0</td>\n",
       "      <td>0</td>\n",
       "      <td>0</td>\n",
       "      <td>9</td>\n",
       "      <td>1</td>\n",
       "      <td>1</td>\n",
       "      <td>0</td>\n",
       "      <td>0</td>\n",
       "      <td>0</td>\n",
       "      <td>...</td>\n",
       "      <td>0</td>\n",
       "      <td>0</td>\n",
       "      <td>1</td>\n",
       "      <td>1</td>\n",
       "      <td>0</td>\n",
       "      <td>0</td>\n",
       "      <td>1</td>\n",
       "      <td>0</td>\n",
       "      <td>0</td>\n",
       "      <td>0</td>\n",
       "    </tr>\n",
       "    <tr>\n",
       "      <th>2</th>\n",
       "      <td>0</td>\n",
       "      <td>0</td>\n",
       "      <td>0</td>\n",
       "      <td>0</td>\n",
       "      <td>4</td>\n",
       "      <td>1</td>\n",
       "      <td>0</td>\n",
       "      <td>0</td>\n",
       "      <td>0</td>\n",
       "      <td>1</td>\n",
       "      <td>...</td>\n",
       "      <td>0</td>\n",
       "      <td>1</td>\n",
       "      <td>0</td>\n",
       "      <td>1</td>\n",
       "      <td>0</td>\n",
       "      <td>0</td>\n",
       "      <td>0</td>\n",
       "      <td>1</td>\n",
       "      <td>0</td>\n",
       "      <td>1</td>\n",
       "    </tr>\n",
       "    <tr>\n",
       "      <th>3</th>\n",
       "      <td>0</td>\n",
       "      <td>1</td>\n",
       "      <td>1</td>\n",
       "      <td>0</td>\n",
       "      <td>13</td>\n",
       "      <td>1</td>\n",
       "      <td>0</td>\n",
       "      <td>0</td>\n",
       "      <td>1</td>\n",
       "      <td>1</td>\n",
       "      <td>...</td>\n",
       "      <td>0</td>\n",
       "      <td>1</td>\n",
       "      <td>0</td>\n",
       "      <td>1</td>\n",
       "      <td>0</td>\n",
       "      <td>0</td>\n",
       "      <td>0</td>\n",
       "      <td>1</td>\n",
       "      <td>0</td>\n",
       "      <td>1</td>\n",
       "    </tr>\n",
       "    <tr>\n",
       "      <th>4</th>\n",
       "      <td>1</td>\n",
       "      <td>1</td>\n",
       "      <td>1</td>\n",
       "      <td>0</td>\n",
       "      <td>3</td>\n",
       "      <td>1</td>\n",
       "      <td>0</td>\n",
       "      <td>0</td>\n",
       "      <td>0</td>\n",
       "      <td>0</td>\n",
       "      <td>...</td>\n",
       "      <td>0</td>\n",
       "      <td>0</td>\n",
       "      <td>1</td>\n",
       "      <td>1</td>\n",
       "      <td>0</td>\n",
       "      <td>0</td>\n",
       "      <td>0</td>\n",
       "      <td>1</td>\n",
       "      <td>0</td>\n",
       "      <td>1</td>\n",
       "    </tr>\n",
       "  </tbody>\n",
       "</table>\n",
       "<p>5 rows × 26 columns</p>\n",
       "</div>"
      ],
      "text/plain": [
       "   gender  SeniorCitizen  Partner  Dependents  tenure  PhoneService  \\\n",
       "0       1              0        1           1       9             1   \n",
       "1       0              0        0           0       9             1   \n",
       "2       0              0        0           0       4             1   \n",
       "3       0              1        1           0      13             1   \n",
       "4       1              1        1           0       3             1   \n",
       "\n",
       "   MultipleLines  OnlineSecurity  OnlineBackup  DeviceProtection  ...  \\\n",
       "0              0               0             1                 0  ...   \n",
       "1              1               0             0                 0  ...   \n",
       "2              0               0             0                 1  ...   \n",
       "3              0               0             1                 1  ...   \n",
       "4              0               0             0                 0  ...   \n",
       "\n",
       "   PaymentMethod_Credit card (automatic)  PaymentMethod_Electronic check  \\\n",
       "0                                      0                               0   \n",
       "1                                      0                               0   \n",
       "2                                      0                               1   \n",
       "3                                      0                               1   \n",
       "4                                      0                               0   \n",
       "\n",
       "   PaymentMethod_Mailed check  Contract_Month-to-month  Contract_One year  \\\n",
       "0                           1                        0                  1   \n",
       "1                           1                        1                  0   \n",
       "2                           0                        1                  0   \n",
       "3                           0                        1                  0   \n",
       "4                           1                        1                  0   \n",
       "\n",
       "   Contract_Two year  InternetService_DSL  InternetService_Fiber optic  \\\n",
       "0                  0                    1                            0   \n",
       "1                  0                    1                            0   \n",
       "2                  0                    0                            1   \n",
       "3                  0                    0                            1   \n",
       "4                  0                    0                            1   \n",
       "\n",
       "   InternetService_No  Churn  \n",
       "0                   0      0  \n",
       "1                   0      0  \n",
       "2                   0      1  \n",
       "3                   0      1  \n",
       "4                   0      1  \n",
       "\n",
       "[5 rows x 26 columns]"
      ]
     },
     "execution_count": 57,
     "metadata": {},
     "output_type": "execute_result"
    }
   ],
   "source": [
    "dados = pd.read_json(\"../Dados/Telco-Customer-Churn-balanceamento.json\")\n",
    "dados.head()"
   ]
  },
  {
   "cell_type": "markdown",
   "metadata": {},
   "source": [
    "Para otimizar o modelo, primeiro precisamos criar o conjunto de treino de teste. Desse modo, dividimos o conjunto de dados em entrada (X) e saida (y), ou alvo."
   ]
  },
  {
   "cell_type": "code",
   "execution_count": 13,
   "metadata": {},
   "outputs": [],
   "source": [
    "X = dados.drop(['Churn'], axis=1)\n",
    "y = dados['Churn']"
   ]
  },
  {
   "cell_type": "markdown",
   "metadata": {},
   "source": [
    "E assim podemos separar os dados em treino e teste com `train_test_split`."
   ]
  },
  {
   "cell_type": "code",
   "execution_count": 16,
   "metadata": {},
   "outputs": [],
   "source": [
    "x_train, x_test, y_train, y_test = train_test_split(X, y, random_state=SEED)"
   ]
  },
  {
   "cell_type": "markdown",
   "metadata": {},
   "source": [
    "É preciso definir os hiperparâmetros a serem otimizados pelo GridSearchCV, os quais:\n",
    "\n",
    "* **`n_estimators`**: número de árvores de decisão;\n",
    "* **`criterion`**: critério de decisão;\n",
    "* **`max_features`**: número máximo de variáveis a serem utilizadas ao procurar melhor divisão;\n",
    "* **`max_depth`**: profundidade máxima da árvore de decisão;\n",
    "* **`min_samples_split`**: número mínimo de amostras necessárias para que uma divisão seja feita;\n",
    "* **`min_samples_leaf`**: número mínimo de amostras necessárias para que uma folha seja formada;\n",
    "* **`bootstrap`**: indica se foi realizada uma reamostragem dos dados na criação dos modelos de árvore de decisão."
   ]
  },
  {
   "cell_type": "code",
   "execution_count": 17,
   "metadata": {},
   "outputs": [],
   "source": [
    "n_estimators = np.arange(100, 200, step=20)\t\n",
    "criterion = [\"gini\", \"entropy\"]  \n",
    "max_features = [\"auto\", \"log2\"]\n",
    "max_depth = list(np.arange(2, 10, step=2))\n",
    "min_samples_split = np.arange(2, 10, step=2)\n",
    "min_samples_leaf = [2, 4]\n",
    "bootstrap = [True, False]\n",
    "\n",
    "parameters = {\n",
    "    \"n_estimators\": n_estimators,\n",
    "    \"criterion\": criterion,\n",
    "    \"max_features\": max_features,\n",
    "    \"max_depth\": max_depth,\n",
    "    \"min_samples_split\": min_samples_split,\n",
    "    \"min_samples_leaf\": min_samples_leaf,\n",
    "    \"bootstrap\": bootstrap,\n",
    "}"
   ]
  },
  {
   "cell_type": "markdown",
   "metadata": {},
   "source": [
    "Agora, podemos utilizar o otimizador GridSearchCV para melhorar a mética *Recall*. Para isso, foi criado um objeto GridSearchCV e nele foi passado como parâmetros o nosso modelo, os hipermparametros definidos anteriormente e a métrica a ser otimizada, *Recall*. Bem como, realizamos o ajuste com o método `fit()`.\n",
    "\n",
    "Para saber mais sobre o GridSearchCV e seus parrâmetros você pode consultar a [documentação](https://scikit-learn.org/stable/modules/generated/sklearn.model_selection.GridSearchCV.html)."
   ]
  },
  {
   "cell_type": "code",
   "execution_count": null,
   "metadata": {},
   "outputs": [],
   "source": [
    "clf = GridSearchCV(RandomForestClassifier(random_state=SEED), parameters, cv=3, n_jobs=-1, scoring=\"recall\")\n",
    "clf.fit(x_train, y_train)  # ajuste com os dados de treino"
   ]
  },
  {
   "cell_type": "markdown",
   "metadata": {},
   "source": [
    "Após o ajuste, conseguimos analisar os resultados obtidos:"
   ]
  },
  {
   "cell_type": "code",
   "execution_count": 24,
   "metadata": {},
   "outputs": [
    {
     "data": {
      "text/html": [
       "<div>\n",
       "<style scoped>\n",
       "    .dataframe tbody tr th:only-of-type {\n",
       "        vertical-align: middle;\n",
       "    }\n",
       "\n",
       "    .dataframe tbody tr th {\n",
       "        vertical-align: top;\n",
       "    }\n",
       "\n",
       "    .dataframe thead th {\n",
       "        text-align: right;\n",
       "    }\n",
       "</style>\n",
       "<table border=\"1\" class=\"dataframe\">\n",
       "  <thead>\n",
       "    <tr style=\"text-align: right;\">\n",
       "      <th></th>\n",
       "      <th>mean_fit_time</th>\n",
       "      <th>std_fit_time</th>\n",
       "      <th>mean_score_time</th>\n",
       "      <th>std_score_time</th>\n",
       "      <th>param_bootstrap</th>\n",
       "      <th>param_criterion</th>\n",
       "      <th>param_max_depth</th>\n",
       "      <th>param_max_features</th>\n",
       "      <th>param_min_samples_leaf</th>\n",
       "      <th>param_min_samples_split</th>\n",
       "      <th>param_n_estimators</th>\n",
       "      <th>params</th>\n",
       "      <th>split0_test_score</th>\n",
       "      <th>split1_test_score</th>\n",
       "      <th>split2_test_score</th>\n",
       "      <th>mean_test_score</th>\n",
       "      <th>std_test_score</th>\n",
       "      <th>rank_test_score</th>\n",
       "    </tr>\n",
       "  </thead>\n",
       "  <tbody>\n",
       "    <tr>\n",
       "      <th>1230</th>\n",
       "      <td>2.795735</td>\n",
       "      <td>0.710900</td>\n",
       "      <td>0.137522</td>\n",
       "      <td>0.014510</td>\n",
       "      <td>False</td>\n",
       "      <td>entropy</td>\n",
       "      <td>8</td>\n",
       "      <td>auto</td>\n",
       "      <td>4</td>\n",
       "      <td>6</td>\n",
       "      <td>100</td>\n",
       "      <td>{'bootstrap': False, 'criterion': 'entropy', '...</td>\n",
       "      <td>0.894615</td>\n",
       "      <td>0.890085</td>\n",
       "      <td>0.886241</td>\n",
       "      <td>0.890314</td>\n",
       "      <td>0.003423</td>\n",
       "      <td>1</td>\n",
       "    </tr>\n",
       "    <tr>\n",
       "      <th>925</th>\n",
       "      <td>1.476667</td>\n",
       "      <td>0.158846</td>\n",
       "      <td>0.115731</td>\n",
       "      <td>0.005462</td>\n",
       "      <td>False</td>\n",
       "      <td>gini</td>\n",
       "      <td>8</td>\n",
       "      <td>log2</td>\n",
       "      <td>2</td>\n",
       "      <td>4</td>\n",
       "      <td>100</td>\n",
       "      <td>{'bootstrap': False, 'criterion': 'gini', 'max...</td>\n",
       "      <td>0.892308</td>\n",
       "      <td>0.889316</td>\n",
       "      <td>0.889316</td>\n",
       "      <td>0.890313</td>\n",
       "      <td>0.001410</td>\n",
       "      <td>2</td>\n",
       "    </tr>\n",
       "    <tr>\n",
       "      <th>1245</th>\n",
       "      <td>1.688358</td>\n",
       "      <td>0.039428</td>\n",
       "      <td>0.196186</td>\n",
       "      <td>0.037705</td>\n",
       "      <td>False</td>\n",
       "      <td>entropy</td>\n",
       "      <td>8</td>\n",
       "      <td>log2</td>\n",
       "      <td>2</td>\n",
       "      <td>4</td>\n",
       "      <td>100</td>\n",
       "      <td>{'bootstrap': False, 'criterion': 'entropy', '...</td>\n",
       "      <td>0.895385</td>\n",
       "      <td>0.886241</td>\n",
       "      <td>0.888547</td>\n",
       "      <td>0.890058</td>\n",
       "      <td>0.003883</td>\n",
       "      <td>3</td>\n",
       "    </tr>\n",
       "    <tr>\n",
       "      <th>1213</th>\n",
       "      <td>3.567250</td>\n",
       "      <td>0.136539</td>\n",
       "      <td>0.237953</td>\n",
       "      <td>0.032301</td>\n",
       "      <td>False</td>\n",
       "      <td>entropy</td>\n",
       "      <td>8</td>\n",
       "      <td>auto</td>\n",
       "      <td>2</td>\n",
       "      <td>6</td>\n",
       "      <td>160</td>\n",
       "      <td>{'bootstrap': False, 'criterion': 'entropy', '...</td>\n",
       "      <td>0.894615</td>\n",
       "      <td>0.892390</td>\n",
       "      <td>0.883167</td>\n",
       "      <td>0.890058</td>\n",
       "      <td>0.004956</td>\n",
       "      <td>4</td>\n",
       "    </tr>\n",
       "    <tr>\n",
       "      <th>1217</th>\n",
       "      <td>2.636150</td>\n",
       "      <td>0.202752</td>\n",
       "      <td>0.212012</td>\n",
       "      <td>0.018872</td>\n",
       "      <td>False</td>\n",
       "      <td>entropy</td>\n",
       "      <td>8</td>\n",
       "      <td>auto</td>\n",
       "      <td>2</td>\n",
       "      <td>8</td>\n",
       "      <td>140</td>\n",
       "      <td>{'bootstrap': False, 'criterion': 'entropy', '...</td>\n",
       "      <td>0.898462</td>\n",
       "      <td>0.883935</td>\n",
       "      <td>0.885473</td>\n",
       "      <td>0.889290</td>\n",
       "      <td>0.006516</td>\n",
       "      <td>5</td>\n",
       "    </tr>\n",
       "  </tbody>\n",
       "</table>\n",
       "</div>"
      ],
      "text/plain": [
       "      mean_fit_time  std_fit_time  mean_score_time  std_score_time  \\\n",
       "1230       2.795735      0.710900         0.137522        0.014510   \n",
       "925        1.476667      0.158846         0.115731        0.005462   \n",
       "1245       1.688358      0.039428         0.196186        0.037705   \n",
       "1213       3.567250      0.136539         0.237953        0.032301   \n",
       "1217       2.636150      0.202752         0.212012        0.018872   \n",
       "\n",
       "     param_bootstrap param_criterion param_max_depth param_max_features  \\\n",
       "1230           False         entropy               8               auto   \n",
       "925            False            gini               8               log2   \n",
       "1245           False         entropy               8               log2   \n",
       "1213           False         entropy               8               auto   \n",
       "1217           False         entropy               8               auto   \n",
       "\n",
       "     param_min_samples_leaf param_min_samples_split param_n_estimators  \\\n",
       "1230                      4                       6                100   \n",
       "925                       2                       4                100   \n",
       "1245                      2                       4                100   \n",
       "1213                      2                       6                160   \n",
       "1217                      2                       8                140   \n",
       "\n",
       "                                                 params  split0_test_score  \\\n",
       "1230  {'bootstrap': False, 'criterion': 'entropy', '...           0.894615   \n",
       "925   {'bootstrap': False, 'criterion': 'gini', 'max...           0.892308   \n",
       "1245  {'bootstrap': False, 'criterion': 'entropy', '...           0.895385   \n",
       "1213  {'bootstrap': False, 'criterion': 'entropy', '...           0.894615   \n",
       "1217  {'bootstrap': False, 'criterion': 'entropy', '...           0.898462   \n",
       "\n",
       "      split1_test_score  split2_test_score  mean_test_score  std_test_score  \\\n",
       "1230           0.890085           0.886241         0.890314        0.003423   \n",
       "925            0.889316           0.889316         0.890313        0.001410   \n",
       "1245           0.886241           0.888547         0.890058        0.003883   \n",
       "1213           0.892390           0.883167         0.890058        0.004956   \n",
       "1217           0.883935           0.885473         0.889290        0.006516   \n",
       "\n",
       "      rank_test_score  \n",
       "1230                1  \n",
       "925                 2  \n",
       "1245                3  \n",
       "1213                4  \n",
       "1217                5  "
      ]
     },
     "execution_count": 24,
     "metadata": {},
     "output_type": "execute_result"
    }
   ],
   "source": [
    "pd.DataFrame(clf.cv_results_).sort_values(by=\"rank_test_score\").head()"
   ]
  },
  {
   "cell_type": "markdown",
   "metadata": {},
   "source": [
    "Para obtermos os melhores resultados do otimizador utilizamos o comando **`best_params_`**:"
   ]
  },
  {
   "cell_type": "code",
   "execution_count": 29,
   "metadata": {},
   "outputs": [
    {
     "data": {
      "text/plain": [
       "{'bootstrap': False,\n",
       " 'criterion': 'entropy',\n",
       " 'max_depth': 8,\n",
       " 'max_features': 'auto',\n",
       " 'min_samples_leaf': 4,\n",
       " 'min_samples_split': 6,\n",
       " 'n_estimators': 100}"
      ]
     },
     "execution_count": 29,
     "metadata": {},
     "output_type": "execute_result"
    }
   ],
   "source": [
    "clf.best_params_"
   ]
  },
  {
   "cell_type": "markdown",
   "metadata": {},
   "source": [
    "Com isso, conseguimos criar um estimador de Random Forest com os melhores hiperparâmetros:"
   ]
  },
  {
   "cell_type": "code",
   "execution_count": 30,
   "metadata": {},
   "outputs": [],
   "source": [
    "rforest = RandomForestClassifier(**clf.best_params_, random_state=SEED)"
   ]
  },
  {
   "cell_type": "code",
   "execution_count": 31,
   "metadata": {},
   "outputs": [],
   "source": [
    "model = rforest.fit(x_train, y_train)  # treinamento com os dados de treino\n",
    "y_pred = rforest.predict(x_test)  # realizando as predições"
   ]
  },
  {
   "cell_type": "markdown",
   "metadata": {},
   "source": [
    "Podemos analisar assim, se o modelo realmente obteve resultados melhores na métrica de *Recall* utilizanod a função `plot_matriz_confusao`:"
   ]
  },
  {
   "cell_type": "code",
   "execution_count": 35,
   "metadata": {},
   "outputs": [
    {
     "data": {
      "image/png": "[encoded data removed]",
      "text/plain": [
       "<Figure size 576x432 with 2 Axes>"
      ]
     },
     "metadata": {
      "needs_background": "light"
     },
     "output_type": "display_data"
    }
   ],
   "source": [
    "labels = [\"True Neg\",\"False Pos\",\"False Neg\",\"True Pos\"]\n",
    "categories = [\"Não Churn\", \"Churn\"]\n",
    "plot_matriz_confusao(y_test,\n",
    "                      y_pred,\n",
    "                      group_names=labels,\n",
    "                      categories=categories,\n",
    "                      figsize=(8, 6), \n",
    "                      title=\"Matriz de confusão para o classificador Random Forest\")"
   ]
  },
  {
   "cell_type": "code",
   "execution_count": 58,
   "metadata": {},
   "outputs": [
    {
     "name": "stdout",
     "output_type": "stream",
     "text": [
      "Acurácia de treinamento: 84.89%\n"
     ]
    }
   ],
   "source": [
    "print(f\"Acurácia de treinamento: {rforest.score(x_train, y_train) * 100:.2f}%\")  # Verificando a acurácia de treinamento"
   ]
  },
  {
   "cell_type": "markdown",
   "metadata": {},
   "source": [
    "Percebe-se que o recall e as outras métricas aumentaram com o modelo otimizado.\n",
    "\n",
    "<h4>Antes da otimização</h4>\n",
    "\n",
    "|    | Modelo        |   Acurácia Treino |   Acurácia Teste |   Precisão |   Recall |   F1-Score |\n",
    "|---:|:--------------|------------------:|-----------------:|-----------:|---------:|-----------:|\n",
    "|  0 | random forest |          0.809818 |         0.800928 |   0.769395 | 0.849843 |   0.80762  |\n",
    "\n",
    "<h4>Depois da otimização</h4>\n",
    "\n",
    "|    | Modelo        |   Acurácia Treino |   Acurácia Teste |   Precisão |   Recall |   F1-Score |\n",
    "|---:|:--------------|------------------:|-----------------:|-----------:|---------:|-----------:|\n",
    "|  0 | random forest |          0.848859 |         0.822 |   0.793 | 0.864 |   0.827  |\n"
   ]
  },
  {
   "cell_type": "markdown",
   "metadata": {},
   "source": [
    "Desse modo, conseguimos criar um modelo bem otimizado e assim, apresentá-lo ao Alura Voz! :D"
   ]
  }
 ],
 "metadata": {
  "interpreter": {
   "hash": "5920b5758d452ea2be3c84d3b52789bc04ee682949a6b0870d7691434146c726"
  },
  "kernelspec": {
   "display_name": "Python 3.8.13 ('machine_learning')",
   "language": "python",
   "name": "python3"
  },
  "language_info": {
   "codemirror_mode": {
    "name": "ipython",
    "version": 3
   },
   "file_extension": ".py",
   "mimetype": "text/x-python",
   "name": "python",
   "nbconvert_exporter": "python",
   "pygments_lexer": "ipython3",
   "version": "3.8.13"
  },
  "orig_nbformat": 4
 },
 "nbformat": 4,
 "nbformat_minor": 2
}
